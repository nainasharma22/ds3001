{
 "cells": [
  {
   "cell_type": "markdown",
   "id": "91a87d65",
   "metadata": {
    "id": "91a87d65",
    "tags": []
   },
   "source": [
    "# Data Wrangling\n",
    "### `! git clone https://github.com/ds4e/wrangling`"
   ]
  },
  {
   "cell_type": "markdown",
   "id": "b69db1a1",
   "metadata": {
    "id": "b69db1a1"
   },
   "source": [
    "## Data Wrangling\n",
    "- First: Data are plural, and the singular is datum.\n",
    "- The data must be **wrangled** or **cleaned** into some form that is amenable to analysis\n",
    "- This can be an exhausting process, and there is no uniquely correct way to do it: choices have consequences\n",
    "- Missing data is the key issue when cleaning data: Understanding which values are missing for some observations/variables, and understanding the implications for analysis\n",
    "- Many key choices depend on what kind of analysis you plan to do"
   ]
  },
  {
   "cell_type": "markdown",
   "id": "6f1299ae-e16b-46db-9e5c-69b9bc579f93",
   "metadata": {},
   "source": [
    "## Data Wrangling\n",
    "- According to a survey by CloudFlower and popularized by Forbes, about 82% of data scientists' time is spent on cleaning and organizing data:\n",
    "\n",
    "![Time use](./src/timespent.jpg)\n",
    "\n",
    "\"76% of data scientists view data preparation as the least enjoyable part of their work.\""
   ]
  },
  {
   "cell_type": "markdown",
   "id": "bab807f2-97c7-4d0b-b8bb-0819ffd763fa",
   "metadata": {
    "id": "bab807f2-97c7-4d0b-b8bb-0819ffd763fa"
   },
   "source": [
    "## Replication and Open Science\n",
    "- Before we go on: Never, ever edit the original data *file(s)*. Do not edit and overwrite the file. Never, ever do this.\n",
    "- You never know what will matter later, so always keep the original data files in a safe place.\n",
    "- Document everything you do in a commented script or markdown file so that in the future, you or someone else can **reproduce** the steps you took to clean the data.\n",
    "- **Reproducibility** means that people can take your data and recreate your results on their own. **Replicability** means that people can do your entire project from scratch (experiment, data, analysis) and get similar results.\n",
    "- The biggest threat to science is the inability to reproduce/replicate results, and a lack of transparency in how results were created: It destroys confidence in the entire enterprise, and makes it impossible for us to make progress."
   ]
  },
  {
   "cell_type": "markdown",
   "id": "538e3471",
   "metadata": {
    "id": "538e3471",
    "jp-MarkdownHeadingCollapsed": true
   },
   "source": [
    "## Files Containing Data\n",
    "- These are the most common file formats I am aware of, and what programs or languages created them:\n",
    "\n",
    "| File Format Extension | Likely Source |\n",
    "| :---: | :---:|\n",
    "|.csv | Any |\n",
    "|.Rda, .Rdata | R |\n",
    "|.dat | SAS |\n",
    "|.sav | SPSS |\n",
    "|.dta | Stata |\n",
    "|.mat | MATLAB |\n",
    "|.xls, .xlsx | Excel |\n",
    "|.json | JavaScript Object Notation|\n",
    "|.parquet | Apache parquet format|\n",
    "|.orc | Optimized Row Columnar, for big data |\n",
    "\n",
    "- Unless you have a good reason, .csv is probably the most accessible format for most people\n",
    "- More modern formats like parquet and orc save space by storing values in a clever way. If a column is just 0's and 1's with mostly 0's for example, they'll just track the indices where a 1 appears, rather than storing the whole column."
   ]
  },
  {
   "cell_type": "markdown",
   "id": "ac81890a",
   "metadata": {
    "id": "ac81890a"
   },
   "source": [
    "## Codebooks\n",
    "- Data come with documentation, which I am going to generically call a *codebook* or a *data dictionary*\n",
    "- The documentation is usually not very good!\n",
    "- It might be a formal codebook, or it might just be the survey itself that respondents filled out, or it might just be the html/javascript code that created the web page that captured the responses\n",
    "- If you don't have a codebook you shouldn't be analyzing the data: You have no clue what it is\n",
    "    - `Employees` might be a `True/False` about whether the firm has any employees at all, or it might be the number of employees it employs, and so on\n",
    "- Be careful trusting the codebook: These often have errors"
   ]
  },
  {
   "cell_type": "markdown",
   "id": "8e5d3a9f",
   "metadata": {},
   "source": [
    "## Citing Data\n",
    "- Whenever you use data, you should cite it:\n",
    "    - Author or Creator: Who or what organization created these data?\n",
    "    - Date of Publication: When was the data made available?\n",
    "    - Title: What is the name of the dataset?\n",
    "    - Electronic Location or Identifier: Where is a persistent location where the data are available? Is there a DOI or orchid or other unique identifier?\n",
    "- We should do a better job of this"
   ]
  },
  {
   "cell_type": "markdown",
   "id": "f6ddcdfd-a5d0-4ee8-b954-7c19754fe9dd",
   "metadata": {
    "id": "f6ddcdfd-a5d0-4ee8-b954-7c19754fe9dd",
    "jp-MarkdownHeadingCollapsed": true
   },
   "source": [
    "## Data\n",
    "- We are typically interested in modelling some kind of phenomenon: defendants, atoms, stock prices, shark attacks, earthquakes, students, cancer, countries, ...\n",
    "- A specific case or instance of the phenomenon is called an **observation**\n",
    "- The observed attributes of a case are called **variables**\n",
    "- The recorded value of a particular attribute for a particular observation is called a **value**\n",
    "- For example, \"What was the bond amount for defendant 1112?\" \"$550\"\n",
    "    - The variable is the bond amount\n",
    "    - The observation is defendant 1112\n",
    "    - The value of the bond for defendant 1112 is 550 dollars\n",
    "    - The data consist of observations of attributes of different defendants in a legal system"
   ]
  },
  {
   "cell_type": "markdown",
   "id": "31fbe37e",
   "metadata": {},
   "source": [
    "## Data Frames\n",
    "- We typically organize our data into dataframe\n",
    "- You can think of it as stacking all of the observations $N$, row by row, where each column corresponds to a variable\n",
    "- You can think of it as stacking all of the variables $L$, column by column, where each row corresponds to an observation\n",
    "- This $N \\times L$ object is known as a dataframe"
   ]
  },
  {
   "cell_type": "markdown",
   "id": "913ffae0",
   "metadata": {
    "id": "913ffae0"
   },
   "source": [
    "## Matrices and Data Frames\n",
    "- This kind of $N \\times L$ object is more generally known as a matrix\n",
    "- A **tuple** or **vector** is a list of values\n",
    "- When we stack $L$ tuples/vectors $(x_1, x_2, ..., x_L)$ of length $N$ side by side, we get an $N \\times L$ matrix:\n",
    "$$\n",
    "X = \\left[ x_1, x_2, ..., x_K \\right] = \\left[ \\begin{array}{cccc}\n",
    "x_{11} & x_{12} & \\dots  & x_{1K} \\\\\n",
    "x_{21} & x_{22} & \\dots  & x_{2K} \\\\\n",
    "\\vdots & \\vdots & \\ddots & \\vdots \\\\\n",
    "x_{N1} & x_{N2} & \\dots & x_{NK} \\\\\n",
    "\\end{array}\\right]\n",
    "$$\n",
    "- The indices for $x_{ik}$ are $ik=(\\text{row},\\text{column})$, so the tuple $(x_{i1},...,x_{iK})$ is row $i$ and the tuple $(x_{1k}, x_{2k},...,x_{Nk})$ is column $k$\n",
    "- Matrices have many applications throughout mathematics, statistics, and data science, but are the basic model of data\n",
    "- When each row represents an *observation* and each column represents a *variable*, we call the matrix $X$ a *dataframe*\n",
    "- Machine learning makes calculations directly on the dataframe $X$ as a matrix using linear algebra and vector calculus (e.g., $ \\hat{\\beta} = (X'X)^{-1} X'y$)"
   ]
  },
  {
   "cell_type": "markdown",
   "id": "2cb56f36",
   "metadata": {
    "id": "2cb56f36"
   },
   "source": [
    "## Pandas (**Pan**el **Da**ta)\n",
    "- How do we put a dataframe into Python?\n",
    "- Since Python is a general purpose computing language, it does not automatically have built-in functionality to effectively load, clean, and manipulate data\n",
    "- Pandas is currently the most popular data-cleaning package for Python: A set of new functions and object classes that expand the base functionality of Python\n",
    "- You load Pandas into your environment using `import pandas as pd`\n",
    "- The `import` keyword tells Python to look for a package named `pandas`, and the `as` keyword says we'd like to use the letters `pd` to refer to the pandas package\n",
    "- Whenever you import Pandas, you might as well also import Numpy and Matplotlib, since Pandas relies on their functionality for some tasks\n",
    "- The fundamental class object of the Pandas package is the **dataframe**: A tool that represents data in a particular way that is convenient for analysis. This is the core of statistical software.\n",
    "- There's already a package I like better called Polars; don't get too attached to Python toys"
   ]
  },
  {
   "cell_type": "code",
   "execution_count": 1,
   "id": "a4636679-d446-4c12-93c2-e8d4acf6ea7a",
   "metadata": {
    "id": "a4636679-d446-4c12-93c2-e8d4acf6ea7a"
   },
   "outputs": [],
   "source": [
    "import numpy as np # Import the numpy package into your workspace\n",
    "import matplotlib.pyplot as plt # Import matplotlib into your workspace\n",
    "import pandas as pd  # Import the pandas package into your workspace"
   ]
  },
  {
   "cell_type": "markdown",
   "id": "dbedb460",
   "metadata": {
    "id": "dbedb460",
    "jp-MarkdownHeadingCollapsed": true
   },
   "source": [
    "## Loading Data\n",
    "- To load .csv data from a local file, you'll use the `.read_csv(filename)` class method:\n",
    "```python\n",
    "df = pd.read_csv('./data/VirginiaPretrialData2017.csv',low_memory=False)\n",
    "```\n",
    "- .csv files load easily on any computer for any language, which is why we generally prefer them. If you have an Excel or Stata or SAS file, it can require some time/effort to get it loaded.\n",
    "- Sometimes the file isn't available locally, and you have to do other things"
   ]
  },
  {
   "cell_type": "markdown",
   "id": "4b93e559-9a2c-4ce1-9c13-f9f5d4321f5c",
   "metadata": {
    "id": "4b93e559-9a2c-4ce1-9c13-f9f5d4321f5c"
   },
   "source": [
    "## Getting the Justice Data\n",
    "- This is a fairly large dataset: 53MB\n",
    "- GitHub does not want to host files that large for us (the limit is about 5MB; I've compressed it into `./data/justice_data.parquet` just in case)\n",
    "- We're going to have to get it straight from the source: The Virginia Sentencing Commission\n",
    "- The website where it lives is: http://www.vcsc.virginia.gov/pretrialdataproject2017.html\n",
    "- To bring it into our workspace, we'll just use Pandas to go get it"
   ]
  },
  {
   "cell_type": "code",
   "execution_count": 2,
   "id": "024ff8dd-6bb6-4f47-9ada-a22fc85b93a3",
   "metadata": {
    "id": "024ff8dd-6bb6-4f47-9ada-a22fc85b93a3"
   },
   "outputs": [],
   "source": [
    "url = 'http://www.vcsc.virginia.gov/pretrialdataproject/October%202017%20Cohort_Virginia%20Pretrial%20Data%20Project_Deidentified%20FINAL%20Update_10272021.csv'\n",
    "df = pd.read_csv(url,low_memory=False) # Pandas downloads and loads the .csv file for you\n",
    "\n",
    "#df = pd.read_parquet('./data/justice_data.parquet') # If necessary...\n"
   ]
  },
  {
   "cell_type": "markdown",
   "id": "023e284f",
   "metadata": {
    "id": "023e284f"
   },
   "source": [
    "## Getting Started With a Dataset\n",
    "- The most basic questions are, How many observations? How many variables, and what are they named?\n",
    "- Every Pandas dataframe has a set of class attributes that are useful for looking at:\n",
    "    - `.shape`: The number of rows and columns\n",
    "    - `.columns`: The names of the columns (`print(df.columns.tolist())` will print all of them)\n",
    "    - `.dtypes`: The types of the variables\n",
    "- To get into the data, you have to look at the *codebook* and read both the definitions of the variables and what kinds of values they can take"
   ]
  },
  {
   "cell_type": "code",
   "execution_count": 3,
   "id": "1201a57f-fee2-4ab8-b1f6-9dfdc952c402",
   "metadata": {
    "id": "1201a57f-fee2-4ab8-b1f6-9dfdc952c402",
    "outputId": "b4693876-8ff6-4126-a411-7208339ec5de",
    "scrolled": true
   },
   "outputs": [
    {
     "name": "stdout",
     "output_type": "stream",
     "text": [
      "(22986, 709) \n",
      "\n",
      "InternalStudyID                                                 object\n",
      "REQ_REC#                                                        object\n",
      "Defendant_Sex                                                   object\n",
      "Defendant_Race                                                  object\n",
      "Defendant_BirthYear                                             object\n",
      "                                                                 ...  \n",
      "NewFelonySexualAssaultArrest_Disposition                        object\n",
      "Intertnalindicator_ReasonforExcludingFromFollowUpAnalysis        int64\n",
      "CriminalHistoryRecordsReturnedorCMSRecordsFoundforIndividual    object\n",
      "DispRecordFoundforChargesinOct2017Contact_Atleast1dispfound      int64\n",
      "CrimeCommission2021ReportClassificationofDefendants             object\n",
      "Length: 709, dtype: object \n",
      "\n",
      "Index(['InternalStudyID', 'REQ_REC#', 'Defendant_Sex', 'Defendant_Race',\n",
      "       'Defendant_BirthYear', 'Defendant_Age', 'Defendant_AgeGroup',\n",
      "       'Defendant_AgeatCurrentArrest', 'Defendant_AttorneyTypeAtCaseClosure',\n",
      "       'Defendant_IndigencyStatus',\n",
      "       ...\n",
      "       'NewFelonySexualAssaultArrest_OffDate',\n",
      "       'NewFelonySexualAssaultArrest_ArrestDate',\n",
      "       'NewFelonySexualAssaultArrest_DaysBetweenContactEventandOffDate',\n",
      "       'NewFelonySexualAssaultArrest_DaysBetweenOffDateandArrestDate',\n",
      "       'NewFelonySexualAssaultArrest_DaysBetweenReleaseDateandOffDate',\n",
      "       'NewFelonySexualAssaultArrest_Disposition',\n",
      "       'Intertnalindicator_ReasonforExcludingFromFollowUpAnalysis',\n",
      "       'CriminalHistoryRecordsReturnedorCMSRecordsFoundforIndividual',\n",
      "       'DispRecordFoundforChargesinOct2017Contact_Atleast1dispfound',\n",
      "       'CrimeCommission2021ReportClassificationofDefendants'],\n",
      "      dtype='object', length=709) \n",
      "\n"
     ]
    }
   ],
   "source": [
    "#df = pd.read_csv('./data/VirginiaPretrialData2017.csv',low_memory=False) # Load the data\n",
    "print(df.shape, '\\n') # List the dimensions of df\n",
    "print(df.dtypes, '\\n') # The types of the variables; `object` is a bad sign\n",
    "print(df.columns, '\\n') # Column names"
   ]
  },
  {
   "cell_type": "markdown",
   "id": "4c043127-e1ff-47ac-918d-69740eeecf1f",
   "metadata": {
    "id": "4c043127-e1ff-47ac-918d-69740eeecf1f"
   },
   "source": [
    "## Visually Inspecting the Dataframe (`.head()`,`.tail()`)\n",
    "- Whenever you load a data set, you should take a look at its actual values; click on the .csv file in the file explorer panel\n",
    "- A nice way to do this is use the Pandas dataframe method, `df.head()`, but if you have a lot of variables, it can be a bit unwieldy\n",
    "- Jupyter has a data file viewer that represents it as a spreadsheet that can be helpful"
   ]
  },
  {
   "cell_type": "code",
   "execution_count": 4,
   "id": "52f023fe",
   "metadata": {},
   "outputs": [
    {
     "data": {
      "text/html": [
       "<div>\n",
       "<style scoped>\n",
       "    .dataframe tbody tr th:only-of-type {\n",
       "        vertical-align: middle;\n",
       "    }\n",
       "\n",
       "    .dataframe tbody tr th {\n",
       "        vertical-align: top;\n",
       "    }\n",
       "\n",
       "    .dataframe thead th {\n",
       "        text-align: right;\n",
       "    }\n",
       "</style>\n",
       "<table border=\"1\" class=\"dataframe\">\n",
       "  <thead>\n",
       "    <tr style=\"text-align: right;\">\n",
       "      <th></th>\n",
       "      <th>InternalStudyID</th>\n",
       "      <th>REQ_REC#</th>\n",
       "      <th>Defendant_Sex</th>\n",
       "      <th>Defendant_Race</th>\n",
       "      <th>Defendant_BirthYear</th>\n",
       "      <th>Defendant_Age</th>\n",
       "      <th>Defendant_AgeGroup</th>\n",
       "      <th>Defendant_AgeatCurrentArrest</th>\n",
       "      <th>Defendant_AttorneyTypeAtCaseClosure</th>\n",
       "      <th>Defendant_IndigencyStatus</th>\n",
       "      <th>...</th>\n",
       "      <th>NewFelonySexualAssaultArrest_OffDate</th>\n",
       "      <th>NewFelonySexualAssaultArrest_ArrestDate</th>\n",
       "      <th>NewFelonySexualAssaultArrest_DaysBetweenContactEventandOffDate</th>\n",
       "      <th>NewFelonySexualAssaultArrest_DaysBetweenOffDateandArrestDate</th>\n",
       "      <th>NewFelonySexualAssaultArrest_DaysBetweenReleaseDateandOffDate</th>\n",
       "      <th>NewFelonySexualAssaultArrest_Disposition</th>\n",
       "      <th>Intertnalindicator_ReasonforExcludingFromFollowUpAnalysis</th>\n",
       "      <th>CriminalHistoryRecordsReturnedorCMSRecordsFoundforIndividual</th>\n",
       "      <th>DispRecordFoundforChargesinOct2017Contact_Atleast1dispfound</th>\n",
       "      <th>CrimeCommission2021ReportClassificationofDefendants</th>\n",
       "    </tr>\n",
       "  </thead>\n",
       "  <tbody>\n",
       "    <tr>\n",
       "      <th>0</th>\n",
       "      <td>ADI00001</td>\n",
       "      <td>1</td>\n",
       "      <td>M</td>\n",
       "      <td>W</td>\n",
       "      <td>1986</td>\n",
       "      <td>31</td>\n",
       "      <td>3</td>\n",
       "      <td>31</td>\n",
       "      <td>99</td>\n",
       "      <td>99</td>\n",
       "      <td>...</td>\n",
       "      <td></td>\n",
       "      <td></td>\n",
       "      <td></td>\n",
       "      <td>999</td>\n",
       "      <td>999</td>\n",
       "      <td></td>\n",
       "      <td>4</td>\n",
       "      <td>1</td>\n",
       "      <td>0</td>\n",
       "      <td>Defendant could not be classified or tracked d...</td>\n",
       "    </tr>\n",
       "    <tr>\n",
       "      <th>1</th>\n",
       "      <td>ADI00007</td>\n",
       "      <td>3</td>\n",
       "      <td>M</td>\n",
       "      <td>B</td>\n",
       "      <td>1956</td>\n",
       "      <td>60</td>\n",
       "      <td>6</td>\n",
       "      <td>60</td>\n",
       "      <td>9</td>\n",
       "      <td>9</td>\n",
       "      <td>...</td>\n",
       "      <td></td>\n",
       "      <td></td>\n",
       "      <td></td>\n",
       "      <td>999</td>\n",
       "      <td>999</td>\n",
       "      <td></td>\n",
       "      <td>5</td>\n",
       "      <td>1</td>\n",
       "      <td>1</td>\n",
       "      <td>Defendant Detained Entire Pre-Trial Period_Und...</td>\n",
       "    </tr>\n",
       "    <tr>\n",
       "      <th>2</th>\n",
       "      <td>ADI00008</td>\n",
       "      <td>4</td>\n",
       "      <td>M</td>\n",
       "      <td>W</td>\n",
       "      <td>1990</td>\n",
       "      <td>27</td>\n",
       "      <td>3</td>\n",
       "      <td>27</td>\n",
       "      <td>9</td>\n",
       "      <td>9</td>\n",
       "      <td>...</td>\n",
       "      <td></td>\n",
       "      <td></td>\n",
       "      <td></td>\n",
       "      <td>999</td>\n",
       "      <td>999</td>\n",
       "      <td></td>\n",
       "      <td>5</td>\n",
       "      <td>1</td>\n",
       "      <td>1</td>\n",
       "      <td>Defendant Detained Entire Pre-Trial Period_Und...</td>\n",
       "    </tr>\n",
       "    <tr>\n",
       "      <th>3</th>\n",
       "      <td>CDI00036</td>\n",
       "      <td>6</td>\n",
       "      <td>M</td>\n",
       "      <td>B</td>\n",
       "      <td>1989</td>\n",
       "      <td>27</td>\n",
       "      <td>3</td>\n",
       "      <td>27</td>\n",
       "      <td>0</td>\n",
       "      <td>0</td>\n",
       "      <td>...</td>\n",
       "      <td></td>\n",
       "      <td></td>\n",
       "      <td></td>\n",
       "      <td>999</td>\n",
       "      <td>999</td>\n",
       "      <td></td>\n",
       "      <td>5</td>\n",
       "      <td>1</td>\n",
       "      <td>1</td>\n",
       "      <td>Defendant Detained Entire Pre-Trial Period_Und...</td>\n",
       "    </tr>\n",
       "    <tr>\n",
       "      <th>4</th>\n",
       "      <td>CDI00038</td>\n",
       "      <td>7</td>\n",
       "      <td>F</td>\n",
       "      <td>W</td>\n",
       "      <td>1988</td>\n",
       "      <td>28</td>\n",
       "      <td>3</td>\n",
       "      <td>28</td>\n",
       "      <td>0</td>\n",
       "      <td>0</td>\n",
       "      <td>...</td>\n",
       "      <td></td>\n",
       "      <td></td>\n",
       "      <td></td>\n",
       "      <td>999</td>\n",
       "      <td>999</td>\n",
       "      <td></td>\n",
       "      <td>0</td>\n",
       "      <td>1</td>\n",
       "      <td>1</td>\n",
       "      <td>New criminal offense punishable by incarcerati...</td>\n",
       "    </tr>\n",
       "  </tbody>\n",
       "</table>\n",
       "<p>5 rows × 709 columns</p>\n",
       "</div>"
      ],
      "text/plain": [
       "  InternalStudyID REQ_REC# Defendant_Sex Defendant_Race Defendant_BirthYear  \\\n",
       "0        ADI00001        1             M              W                1986   \n",
       "1        ADI00007        3             M              B                1956   \n",
       "2        ADI00008        4             M              W                1990   \n",
       "3        CDI00036        6             M              B                1989   \n",
       "4        CDI00038        7             F              W                1988   \n",
       "\n",
       "  Defendant_Age  Defendant_AgeGroup Defendant_AgeatCurrentArrest  \\\n",
       "0            31                   3                           31   \n",
       "1            60                   6                           60   \n",
       "2            27                   3                           27   \n",
       "3            27                   3                           27   \n",
       "4            28                   3                           28   \n",
       "\n",
       "   Defendant_AttorneyTypeAtCaseClosure  Defendant_IndigencyStatus  ...  \\\n",
       "0                                   99                         99  ...   \n",
       "1                                    9                          9  ...   \n",
       "2                                    9                          9  ...   \n",
       "3                                    0                          0  ...   \n",
       "4                                    0                          0  ...   \n",
       "\n",
       "  NewFelonySexualAssaultArrest_OffDate  \\\n",
       "0                                        \n",
       "1                                        \n",
       "2                                        \n",
       "3                                        \n",
       "4                                        \n",
       "\n",
       "  NewFelonySexualAssaultArrest_ArrestDate  \\\n",
       "0                                           \n",
       "1                                           \n",
       "2                                           \n",
       "3                                           \n",
       "4                                           \n",
       "\n",
       "   NewFelonySexualAssaultArrest_DaysBetweenContactEventandOffDate  \\\n",
       "0                                                                   \n",
       "1                                                                   \n",
       "2                                                                   \n",
       "3                                                                   \n",
       "4                                                                   \n",
       "\n",
       "  NewFelonySexualAssaultArrest_DaysBetweenOffDateandArrestDate  \\\n",
       "0                                                999             \n",
       "1                                                999             \n",
       "2                                                999             \n",
       "3                                                999             \n",
       "4                                                999             \n",
       "\n",
       "   NewFelonySexualAssaultArrest_DaysBetweenReleaseDateandOffDate  \\\n",
       "0                                                999               \n",
       "1                                                999               \n",
       "2                                                999               \n",
       "3                                                999               \n",
       "4                                                999               \n",
       "\n",
       "   NewFelonySexualAssaultArrest_Disposition  \\\n",
       "0                                             \n",
       "1                                             \n",
       "2                                             \n",
       "3                                             \n",
       "4                                             \n",
       "\n",
       "   Intertnalindicator_ReasonforExcludingFromFollowUpAnalysis  \\\n",
       "0                                                  4           \n",
       "1                                                  5           \n",
       "2                                                  5           \n",
       "3                                                  5           \n",
       "4                                                  0           \n",
       "\n",
       "   CriminalHistoryRecordsReturnedorCMSRecordsFoundforIndividual  \\\n",
       "0                                                  1              \n",
       "1                                                  1              \n",
       "2                                                  1              \n",
       "3                                                  1              \n",
       "4                                                  1              \n",
       "\n",
       "  DispRecordFoundforChargesinOct2017Contact_Atleast1dispfound  \\\n",
       "0                                                  0            \n",
       "1                                                  1            \n",
       "2                                                  1            \n",
       "3                                                  1            \n",
       "4                                                  1            \n",
       "\n",
       "   CrimeCommission2021ReportClassificationofDefendants  \n",
       "0  Defendant could not be classified or tracked d...    \n",
       "1  Defendant Detained Entire Pre-Trial Period_Und...    \n",
       "2  Defendant Detained Entire Pre-Trial Period_Und...    \n",
       "3  Defendant Detained Entire Pre-Trial Period_Und...    \n",
       "4  New criminal offense punishable by incarcerati...    \n",
       "\n",
       "[5 rows x 709 columns]"
      ]
     },
     "execution_count": 4,
     "metadata": {},
     "output_type": "execute_result"
    }
   ],
   "source": [
    "df.head()"
   ]
  },
  {
   "cell_type": "code",
   "execution_count": 5,
   "id": "fdd9a5b5",
   "metadata": {},
   "outputs": [
    {
     "data": {
      "text/html": [
       "<div>\n",
       "<style scoped>\n",
       "    .dataframe tbody tr th:only-of-type {\n",
       "        vertical-align: middle;\n",
       "    }\n",
       "\n",
       "    .dataframe tbody tr th {\n",
       "        vertical-align: top;\n",
       "    }\n",
       "\n",
       "    .dataframe thead th {\n",
       "        text-align: right;\n",
       "    }\n",
       "</style>\n",
       "<table border=\"1\" class=\"dataframe\">\n",
       "  <thead>\n",
       "    <tr style=\"text-align: right;\">\n",
       "      <th></th>\n",
       "      <th>InternalStudyID</th>\n",
       "      <th>REQ_REC#</th>\n",
       "      <th>Defendant_Sex</th>\n",
       "      <th>Defendant_Race</th>\n",
       "      <th>Defendant_BirthYear</th>\n",
       "      <th>Defendant_Age</th>\n",
       "      <th>Defendant_AgeGroup</th>\n",
       "      <th>Defendant_AgeatCurrentArrest</th>\n",
       "      <th>Defendant_AttorneyTypeAtCaseClosure</th>\n",
       "      <th>Defendant_IndigencyStatus</th>\n",
       "      <th>...</th>\n",
       "      <th>NewFelonySexualAssaultArrest_OffDate</th>\n",
       "      <th>NewFelonySexualAssaultArrest_ArrestDate</th>\n",
       "      <th>NewFelonySexualAssaultArrest_DaysBetweenContactEventandOffDate</th>\n",
       "      <th>NewFelonySexualAssaultArrest_DaysBetweenOffDateandArrestDate</th>\n",
       "      <th>NewFelonySexualAssaultArrest_DaysBetweenReleaseDateandOffDate</th>\n",
       "      <th>NewFelonySexualAssaultArrest_Disposition</th>\n",
       "      <th>Intertnalindicator_ReasonforExcludingFromFollowUpAnalysis</th>\n",
       "      <th>CriminalHistoryRecordsReturnedorCMSRecordsFoundforIndividual</th>\n",
       "      <th>DispRecordFoundforChargesinOct2017Contact_Atleast1dispfound</th>\n",
       "      <th>CrimeCommission2021ReportClassificationofDefendants</th>\n",
       "    </tr>\n",
       "  </thead>\n",
       "  <tbody>\n",
       "    <tr>\n",
       "      <th>22981</th>\n",
       "      <td>SJA00343</td>\n",
       "      <td>22839</td>\n",
       "      <td>M</td>\n",
       "      <td>B</td>\n",
       "      <td>1976</td>\n",
       "      <td>41</td>\n",
       "      <td>4</td>\n",
       "      <td>41</td>\n",
       "      <td>2</td>\n",
       "      <td>1</td>\n",
       "      <td>...</td>\n",
       "      <td></td>\n",
       "      <td></td>\n",
       "      <td></td>\n",
       "      <td>999</td>\n",
       "      <td>999</td>\n",
       "      <td></td>\n",
       "      <td>0</td>\n",
       "      <td>1</td>\n",
       "      <td>1</td>\n",
       "      <td>New criminal offense punishable by incarcerati...</td>\n",
       "    </tr>\n",
       "    <tr>\n",
       "      <th>22982</th>\n",
       "      <td>SJA00344</td>\n",
       "      <td></td>\n",
       "      <td>F</td>\n",
       "      <td>W</td>\n",
       "      <td></td>\n",
       "      <td></td>\n",
       "      <td>9</td>\n",
       "      <td></td>\n",
       "      <td>99</td>\n",
       "      <td>99</td>\n",
       "      <td>...</td>\n",
       "      <td></td>\n",
       "      <td></td>\n",
       "      <td></td>\n",
       "      <td>999</td>\n",
       "      <td>999</td>\n",
       "      <td></td>\n",
       "      <td>3</td>\n",
       "      <td></td>\n",
       "      <td>9</td>\n",
       "      <td>Defendant could not be classified or tracked d...</td>\n",
       "    </tr>\n",
       "    <tr>\n",
       "      <th>22983</th>\n",
       "      <td>SJA00345</td>\n",
       "      <td>22841</td>\n",
       "      <td>M</td>\n",
       "      <td>B</td>\n",
       "      <td>1981</td>\n",
       "      <td>36</td>\n",
       "      <td>4</td>\n",
       "      <td>36</td>\n",
       "      <td>1</td>\n",
       "      <td>1</td>\n",
       "      <td>...</td>\n",
       "      <td></td>\n",
       "      <td></td>\n",
       "      <td></td>\n",
       "      <td>999</td>\n",
       "      <td>999</td>\n",
       "      <td></td>\n",
       "      <td>0</td>\n",
       "      <td>1</td>\n",
       "      <td>1</td>\n",
       "      <td>New criminal offense punishable by incarcerati...</td>\n",
       "    </tr>\n",
       "    <tr>\n",
       "      <th>22984</th>\n",
       "      <td>SJA00346</td>\n",
       "      <td>22842</td>\n",
       "      <td>F</td>\n",
       "      <td>B</td>\n",
       "      <td>1993</td>\n",
       "      <td>24</td>\n",
       "      <td>2</td>\n",
       "      <td>24</td>\n",
       "      <td>5</td>\n",
       "      <td>0</td>\n",
       "      <td>...</td>\n",
       "      <td></td>\n",
       "      <td></td>\n",
       "      <td></td>\n",
       "      <td>999</td>\n",
       "      <td>999</td>\n",
       "      <td></td>\n",
       "      <td>0</td>\n",
       "      <td>1</td>\n",
       "      <td>1</td>\n",
       "      <td>New criminal offense punishable by incarcerati...</td>\n",
       "    </tr>\n",
       "    <tr>\n",
       "      <th>22985</th>\n",
       "      <td>SJA00347</td>\n",
       "      <td>22843</td>\n",
       "      <td>M</td>\n",
       "      <td>B</td>\n",
       "      <td>1985</td>\n",
       "      <td>31</td>\n",
       "      <td>3</td>\n",
       "      <td>31</td>\n",
       "      <td>2</td>\n",
       "      <td>1</td>\n",
       "      <td>...</td>\n",
       "      <td></td>\n",
       "      <td></td>\n",
       "      <td></td>\n",
       "      <td>999</td>\n",
       "      <td>999</td>\n",
       "      <td></td>\n",
       "      <td>0</td>\n",
       "      <td>1</td>\n",
       "      <td>1</td>\n",
       "      <td>New criminal offense punishable by incarcerati...</td>\n",
       "    </tr>\n",
       "  </tbody>\n",
       "</table>\n",
       "<p>5 rows × 709 columns</p>\n",
       "</div>"
      ],
      "text/plain": [
       "      InternalStudyID REQ_REC# Defendant_Sex Defendant_Race  \\\n",
       "22981        SJA00343    22839             M              B   \n",
       "22982        SJA00344                      F              W   \n",
       "22983        SJA00345    22841             M              B   \n",
       "22984        SJA00346    22842             F              B   \n",
       "22985        SJA00347    22843             M              B   \n",
       "\n",
       "      Defendant_BirthYear Defendant_Age  Defendant_AgeGroup  \\\n",
       "22981                1976            41                   4   \n",
       "22982                                                     9   \n",
       "22983                1981            36                   4   \n",
       "22984                1993            24                   2   \n",
       "22985                1985            31                   3   \n",
       "\n",
       "      Defendant_AgeatCurrentArrest  Defendant_AttorneyTypeAtCaseClosure  \\\n",
       "22981                           41                                    2   \n",
       "22982                                                                99   \n",
       "22983                           36                                    1   \n",
       "22984                           24                                    5   \n",
       "22985                           31                                    2   \n",
       "\n",
       "       Defendant_IndigencyStatus  ... NewFelonySexualAssaultArrest_OffDate  \\\n",
       "22981                          1  ...                                        \n",
       "22982                         99  ...                                        \n",
       "22983                          1  ...                                        \n",
       "22984                          0  ...                                        \n",
       "22985                          1  ...                                        \n",
       "\n",
       "      NewFelonySexualAssaultArrest_ArrestDate  \\\n",
       "22981                                           \n",
       "22982                                           \n",
       "22983                                           \n",
       "22984                                           \n",
       "22985                                           \n",
       "\n",
       "       NewFelonySexualAssaultArrest_DaysBetweenContactEventandOffDate  \\\n",
       "22981                                                                   \n",
       "22982                                                                   \n",
       "22983                                                                   \n",
       "22984                                                                   \n",
       "22985                                                                   \n",
       "\n",
       "      NewFelonySexualAssaultArrest_DaysBetweenOffDateandArrestDate  \\\n",
       "22981                                                999             \n",
       "22982                                                999             \n",
       "22983                                                999             \n",
       "22984                                                999             \n",
       "22985                                                999             \n",
       "\n",
       "       NewFelonySexualAssaultArrest_DaysBetweenReleaseDateandOffDate  \\\n",
       "22981                                                999               \n",
       "22982                                                999               \n",
       "22983                                                999               \n",
       "22984                                                999               \n",
       "22985                                                999               \n",
       "\n",
       "       NewFelonySexualAssaultArrest_Disposition  \\\n",
       "22981                                             \n",
       "22982                                             \n",
       "22983                                             \n",
       "22984                                             \n",
       "22985                                             \n",
       "\n",
       "       Intertnalindicator_ReasonforExcludingFromFollowUpAnalysis  \\\n",
       "22981                                                  0           \n",
       "22982                                                  3           \n",
       "22983                                                  0           \n",
       "22984                                                  0           \n",
       "22985                                                  0           \n",
       "\n",
       "       CriminalHistoryRecordsReturnedorCMSRecordsFoundforIndividual  \\\n",
       "22981                                                  1              \n",
       "22982                                                                 \n",
       "22983                                                  1              \n",
       "22984                                                  1              \n",
       "22985                                                  1              \n",
       "\n",
       "      DispRecordFoundforChargesinOct2017Contact_Atleast1dispfound  \\\n",
       "22981                                                  1            \n",
       "22982                                                  9            \n",
       "22983                                                  1            \n",
       "22984                                                  1            \n",
       "22985                                                  1            \n",
       "\n",
       "       CrimeCommission2021ReportClassificationofDefendants  \n",
       "22981  New criminal offense punishable by incarcerati...    \n",
       "22982  Defendant could not be classified or tracked d...    \n",
       "22983  New criminal offense punishable by incarcerati...    \n",
       "22984  New criminal offense punishable by incarcerati...    \n",
       "22985  New criminal offense punishable by incarcerati...    \n",
       "\n",
       "[5 rows x 709 columns]"
      ]
     },
     "execution_count": 5,
     "metadata": {},
     "output_type": "execute_result"
    }
   ],
   "source": [
    "df.tail()"
   ]
  },
  {
   "cell_type": "markdown",
   "id": "fbc29341",
   "metadata": {},
   "source": [
    "## Variables in Python\n",
    "- A variable in Pandas is called a **Series**. This is because Pandas was originally intended for Panel Data, in which the data correspond to Time Series. If you know this, many of the weird behaviors of Pandas become clearer.\n",
    "- To access a variable in a Pandas dataframe named `var`, you can extract it as a series using `df[var]`. For example, `df['age']`."
   ]
  },
  {
   "cell_type": "markdown",
   "id": "92bed5df-55bb-4a71-bca2-22d689be45f0",
   "metadata": {
    "id": "92bed5df-55bb-4a71-bca2-22d689be45f0"
   },
   "source": [
    "## Renaming and Creating Variables\n",
    "- Variable names are often too verbose: `BondAmountAtInitialContact`, `Defendant_IndigencyStatus`, and `CaseType_MostSerChargeinContactEvent_regardlessofFinalDisp` -- you're going to have to type these things dozens or hundreds of times\n",
    "- To rename a variable, you can pass a dictionary explaining how you want to rename the variables: `df = df.rename(columns = {oldName:newName})` \n",
    "- To create a variable, you supply the new name as a string: `df[varName]=expression`\n",
    "- You can also manipulate variables on the right-hand side of `df[varName]=expression`, like `df['age_sq'] = df['age']**2`"
   ]
  },
  {
   "cell_type": "code",
   "execution_count": 6,
   "id": "f554cbb3-28d9-4fac-b4b1-d40ea944fa5b",
   "metadata": {
    "id": "f554cbb3-28d9-4fac-b4b1-d40ea944fa5b"
   },
   "outputs": [],
   "source": [
    "df = df.rename(columns = {'BondAmountAtInitialContact':'bond',\n",
    "                    'Defendant_IndigencyStatus':'is_poor',\n",
    "                    'CaseType_MostSerChargeinContactEvent_regardlessofFinalDisp':'case_type',\n",
    "                    'WhetherDefendantWasReleasedPretrial':'released'}) # Rename variables\n",
    "df['age'] = df['Defendant_Age'] # Creating a new variable called age without replacing Defendant_Age"
   ]
  },
  {
   "cell_type": "markdown",
   "id": "f18bbc16-9782-4662-b139-848988e5d785",
   "metadata": {
    "id": "f18bbc16-9782-4662-b139-848988e5d785"
   },
   "source": [
    "## Basic Taxomony of Variables\n",
    "- With our dataframe operations and concepts sorted, we can start thinking about variables: The columns that make up the data\n",
    "- A **numeric variable** takes real number values like -1 or 5.125 and has units, so magnitudes can be compared (e.g. Temperature (in Fahrenheit), Salary (in dollars), Weight (thousands of pounds), Counts (numbers of students))\n",
    "- With a **categorical variable**, there are a finite number of distinct categories the variable might take (e.g. Enrolled in College/University or Not, Alive/Dead, Animal Species, Make of a Car)\n",
    "    - There are categorical *variables* that take numeric *values*, but their units are meaningless (e.g. Zip Code, Area Code, NAICS)\n",
    "- There are times where the appropriate thing to do is model a numeric as a categorical (e.g. grade levels in school are ordered...?)\n",
    "- When a categorical variable takes binary values (e.g. alive/dead), we typically represent it with a **dummy variable** which takes the numeric value 0 or 1 (e.g. `alive == 1`, `dead == 0`)"
   ]
  },
  {
   "cell_type": "markdown",
   "id": "8c05baca-cee7-4027-8fc8-ef9b0fd35e1d",
   "metadata": {
    "id": "8c05baca-cee7-4027-8fc8-ef9b0fd35e1d"
   },
   "source": [
    "## Unique Values, Frequency Tables, Histograms\n",
    "- Looking at a column of numbers can often be unproductive, especially if there are many observations\n",
    "- The best tools to automate your understanding of a variable are:\n",
    "    - `df[var].unique()`: Provides a list of the unique values occuring for that variable\n",
    "    - `df[var].value_counts()`: Tabulates the number of times each unique value occurs\n",
    "    - `df[var].hist()`: Plots the value counts as a bar graph\n",
    "- `.unique()` is, in particular, extremely useful for learning how dirty the data is"
   ]
  },
  {
   "cell_type": "code",
   "execution_count": 7,
   "id": "9d0721d3-988d-4e17-b0f9-211f9c42d60b",
   "metadata": {
    "id": "9d0721d3-988d-4e17-b0f9-211f9c42d60b",
    "outputId": "cd883417-6a9a-4662-a377-b99a06a23357"
   },
   "outputs": [
    {
     "name": "stdout",
     "output_type": "stream",
     "text": [
      "['M' 'F' 'n' ' '] \n",
      "\n",
      "M    16587\n",
      "F     6396\n",
      "n        2\n",
      "         1\n",
      "Name: sex, dtype: int64 \n",
      "\n",
      "AxesSubplot(0.125,0.11;0.775x0.77) \n",
      "\n"
     ]
    },
    {
     "data": {
      "image/png": "[encoded data removed]",
      "text/plain": [
       "<Figure size 640x480 with 1 Axes>"
      ]
     },
     "metadata": {},
     "output_type": "display_data"
    }
   ],
   "source": [
    "df['sex'] = df['Defendant_Sex'] # Categorical variable example\n",
    "var = 'sex'\n",
    "print(df[var].unique(),'\\n') # 'n' is not listed in the codebook\n",
    "print(df[var].value_counts(), '\\n') #\n",
    "print(df[var].hist(), '\\n') # About 72% of observations are male"
   ]
  },
  {
   "cell_type": "code",
   "execution_count": 8,
   "id": "ff232acc-f62c-4361-a554-aaa13e1f9a20",
   "metadata": {
    "id": "ff232acc-f62c-4361-a554-aaa13e1f9a20",
    "outputId": "70037b6c-7f1d-4b99-d535-4983ddb0af2e"
   },
   "outputs": [
    {
     "name": "stdout",
     "output_type": "stream",
     "text": [
      "[99  9  0  1] \n",
      "\n",
      "0     11500\n",
      "1     10465\n",
      "9       747\n",
      "99      274\n",
      "Name: is_poor, dtype: int64 \n",
      "\n",
      "AxesSubplot(0.125,0.11;0.775x0.77) \n",
      "\n"
     ]
    },
    {
     "data": {
      "image/png": "[encoded data removed]",
      "text/plain": [
       "<Figure size 640x480 with 1 Axes>"
      ]
     },
     "metadata": {},
     "output_type": "display_data"
    }
   ],
   "source": [
    "var = 'is_poor' # A dummy variable\n",
    "print(df[var].unique(),'\\n') # Notice these gooses have already messed up their coding\n",
    "print(df[var].value_counts(), '\\n') # Look at the 9 and 99: That is awful\n",
    "print(df[var].hist(), '\\n') # What is \"bad\" about this plot?"
   ]
  },
  {
   "cell_type": "code",
   "execution_count": 9,
   "id": "6ea94c03-b1cd-460b-a315-8b1aaff80aef",
   "metadata": {
    "id": "6ea94c03-b1cd-460b-a315-8b1aaff80aef",
    "outputId": "a07e500d-bce6-42fd-991c-535c2fd789dc"
   },
   "outputs": [
    {
     "name": "stdout",
     "output_type": "stream",
     "text": [
      "['31' '60' '27' '28' '39' '35' '18' '21' '66' '25' '38' '22' '40' '48'\n",
      " '34' '37' '20' '54' '46' '58' '55' '51' '24' '32' '30' '36' '26' '43'\n",
      " '56' '49' '19' '50' '52' '41' '29' '33' '42' '53' '44' '59' '45' '23'\n",
      " '63' '57' '47' '61' '78' '65' '67' '64' '62' '74' '68' '70' '69' '80'\n",
      " '75' '77' '73' '71' '72' ' ' '79' '81' '85' '100' '82' '76' '83' '93' '0'\n",
      " '99' '84' '87' '86' '92' '88'] \n",
      "\n",
      "AxesSubplot(0.125,0.11;0.775x0.77) \n",
      "\n"
     ]
    },
    {
     "data": {
      "image/png": "[encoded data removed]",
      "text/plain": [
       "<Figure size 640x480 with 1 Axes>"
      ]
     },
     "metadata": {},
     "output_type": "display_data"
    }
   ],
   "source": [
    "var = 'age' # A numeric variable\n",
    "print(df[var].unique(),'\\n') # Do you see some problem values?\n",
    "print(df[var].hist(), '\\n') # This does not look very good."
   ]
  },
  {
   "cell_type": "markdown",
   "id": "ba9c2510",
   "metadata": {
    "id": "ba9c2510"
   },
   "source": [
    "## Missing Data\n",
    "- To make progess on this cleaning this variable, we have to do something about that space `' '`: It's a **missing value**\n",
    "- Data are *missing* if their values are not recorded in the dataset\n",
    "- Data are typically missing in different ways: There might simply be no recorded value at all -- `... , , ...` -- in the data or it might be recorded but as a specific missing value value code like `\"NA\"` or `-999` or `Don't Know` or `Refusal` --- **check the codebook**\n",
    "- We can't really get started on doing interesting things if the data are full of missings: Pandas will just treat the variable as an object\n",
    "- Handling missing data is the most important issue when you clean a data set"
   ]
  },
  {
   "cell_type": "markdown",
   "id": "26ba6ebd",
   "metadata": {
    "id": "26ba6ebd"
   },
   "source": [
    "## Why do we care about missing data?\n",
    "- Abraham Wald was a statistician during WWII, working for the United States. They asked him to solve a problem. Planes would come in after a battle, hit from enemy fire:\n",
    "\n",
    "<img src=\"./src/plane.png\" width='400' height='380' />\n",
    "\n",
    "- Where does additional armor go to improve odds of survival?"
   ]
  },
  {
   "cell_type": "markdown",
   "id": "39cd76dc-06da-472c-9798-851288a001c2",
   "metadata": {
    "id": "39cd76dc-06da-472c-9798-851288a001c2"
   },
   "source": [
    "## Other Missing Data Examples\n",
    "- Other examples:\n",
    "    - People who get married have higher salaries, on average\n",
    "    - People who drink wine have longer lifespans, on average\n",
    "    - Use of cannabis and psychedelic drugs has been linked to mental illness\n",
    "    - Many places that imposed stricter pandemic protocols had worse outcomes than places that didn't (e.g. NYC vs Cville)\n",
    "- In social science, every interesting problem is fundamentally a missing data issue\n",
    "- \"Correlation does not imply causation\" isn't a vibe or slogan, it's a mathematical reality with quantitative models and tools for measuring and correcting for the bias"
   ]
  },
  {
   "cell_type": "markdown",
   "id": "066ea97f-6226-4a4b-8eed-e7b5369f7a77",
   "metadata": {
    "id": "066ea97f-6226-4a4b-8eed-e7b5369f7a77"
   },
   "source": [
    "## `nan`'s and Pandas\n",
    "- In Pandas, there are two options for representing missing values\n",
    "    - The default is to treat it as an `np.nan` from the NumPy package: \"Not-a-number\", and its type is `float`\n",
    "    - Pandas can also treat a missing value as a `None`: An empty/null object without a type or value\n",
    "- We want to responsibly deal with the presence of the missing values without making bad choices that interfere with subsequent analysis\n",
    "- You will often have to add the `.nan`s yourself; Pandas brings a lot of empty variable entries in as an empty string"
   ]
  },
  {
   "cell_type": "markdown",
   "id": "d107debe-6bbc-4686-8917-dd8aeb7638ee",
   "metadata": {
    "id": "d107debe-6bbc-4686-8917-dd8aeb7638ee"
   },
   "source": [
    "## Cleaning Numeric Variables\n",
    "- Often, numeric variables include units like dollar signs or separators like commas in their values that need to be cleaned in addition to values that simply aren't recorded: Otherwise, Pandas will drop those values, which can be a big mistake\n",
    "- To clean a numeric variable:\n",
    "    1. Cleaning: Remove symbols like units (e.g. `$`) or separators (e.g. `1,000`) to preserve as much data as possible using `df[var].str.replace(pattern, replacement)`\n",
    "    2. Coercion: Coerce the values to numeric using the Pandas method `pd.to_numeric(var)`"
   ]
  },
  {
   "cell_type": "code",
   "execution_count": 10,
   "id": "b6426d26-9c70-44f5-99e0-59999157219e",
   "metadata": {
    "id": "b6426d26-9c70-44f5-99e0-59999157219e",
    "outputId": "da666158-9a44-46be-cb0b-982f82fd713d"
   },
   "outputs": [
    {
     "name": "stdout",
     "output_type": "stream",
     "text": [
      "Before coercion: \n",
      " count     22986\n",
      "unique       77\n",
      "top          27\n",
      "freq        939\n",
      "Name: age, dtype: object \n",
      "\n"
     ]
    },
    {
     "data": {
      "text/plain": [
       "<AxesSubplot:>"
      ]
     },
     "execution_count": 10,
     "metadata": {},
     "output_type": "execute_result"
    },
    {
     "data": {
      "image/png": "[encoded data removed]",
      "text/plain": [
       "<Figure size 640x480 with 1 Axes>"
      ]
     },
     "metadata": {},
     "output_type": "display_data"
    }
   ],
   "source": [
    "var = 'age' # We'll clean the age variable\n",
    "print('Before coercion: \\n', df[var].describe(),'\\n') # The age variable is not read by Pandas as a number\n",
    "df[var].hist(bins=50) # Initial histogram; check out the x axis"
   ]
  },
  {
   "cell_type": "code",
   "execution_count": 11,
   "id": "a4c75756-d6c9-44f1-a0a4-985cbde72995",
   "metadata": {
    "id": "a4c75756-d6c9-44f1-a0a4-985cbde72995",
    "outputId": "7012edef-7285-476d-9951-16187d7e926d"
   },
   "outputs": [
    {
     "name": "stdout",
     "output_type": "stream",
     "text": [
      "After coercion: \n",
      " count    22931.000000\n",
      "mean        34.276525\n",
      "std         12.468031\n",
      "min          0.000000\n",
      "25%         24.000000\n",
      "50%         31.000000\n",
      "75%         42.000000\n",
      "max        100.000000\n",
      "Name: age, dtype: float64 \n",
      "\n",
      "Total Missings: \n",
      " 55 \n",
      "\n"
     ]
    },
    {
     "data": {
      "image/png": "[encoded data removed]",
      "text/plain": [
       "<Figure size 640x480 with 1 Axes>"
      ]
     },
     "metadata": {},
     "output_type": "display_data"
    }
   ],
   "source": [
    "## An example of type coercion:\n",
    "\n",
    "# How to coerce a variable to numeric:\n",
    "df['age'] = pd.to_numeric(df['age'], errors='coerce') # Coerce the variable to numeric\n",
    "\n",
    "# Create a missing dummy:\n",
    "df['age_nan'] = df['age'].isnull() # Equals 1 if missing, 0 if non-null\n",
    "\n",
    "# After coercion:\n",
    "print('After coercion: \\n', df['age'].describe(),'\\n') # Describe the numeric variable\n",
    "df['age'].hist(bins = 50) # Histogram of the variable values\n",
    "print('Total Missings: \\n', sum(df['age_nan']),'\\n') # How many missing values are there?"
   ]
  },
  {
   "cell_type": "markdown",
   "id": "89df5fee",
   "metadata": {},
   "source": [
    "## Imputation\n",
    "- So you have those `np.nan` values left in the data frame, what do you do with them?\n",
    "- It depends... probably nothing, for now. We want to know the data are missing: It's information.\n",
    "- Alternatively, you can replace the missing value with something else: This is called **imputation**\n",
    "- Whether or not the imputation strategy is a good one depends on the subsequent analysis. Typically, people either:\n",
    "    1. Add a \"missing value dummy\" to the dataframe that takes the value 1 if the value was missing and 0 if not using `df[var].isnull()`, then replace missing values with zero, the mean, or the median using `df[var].fillNA(value)`\n",
    "    2. Use a predictive model to replace the missing values with a reasonable guess of the missing value, trained on the non-missing data\n",
    "    3. Use algorithms that explicitly allow data to be missing\n",
    "- Imputation is often a bad idea. Do not do it carelessly, or because you feel like you just have to do something to get rid of NA's. "
   ]
  },
  {
   "cell_type": "code",
   "execution_count": 12,
   "id": "18aec3f9-dd5a-4e91-917d-ada6828a6aba",
   "metadata": {},
   "outputs": [],
   "source": [
    "## An Example of Imputation:\n",
    "\n",
    "# Create a missing dummy:\n",
    "df['age_na'] = df['age'].isnull() # Equals 1 if missing, 0 if non-null\n",
    "\n",
    "# Compute the value to impute, in this case the median:\n",
    "impute_value = df['age'].median() # Or mean, or whatever\n",
    "\n",
    "# Impute the median of the non-missing data:\n",
    "df['age_impute'] = df['age'].fillna(impute_value)"
   ]
  },
  {
   "cell_type": "markdown",
   "id": "a6439b99-12a0-4ce0-a0be-4afbb5adcd90",
   "metadata": {
    "id": "a6439b99-12a0-4ce0-a0be-4afbb5adcd90"
   },
   "source": [
    "## Cleaning Categorical Variables\n",
    "- Cleaning categorical variables is even easier than numeric variables\n",
    "- To clean a categorical variable,\n",
    "    - Option 1: Replace each type of missing value with a new category that indicates the information about why the variable is missing, as appropriate\n",
    "    - Option 2: Replace missings with `.nan`, and create a dummy for each qualitative type of missing value\n",
    "- With the pretrial data, good examples of this are `case_type` and `is_poor`"
   ]
  },
  {
   "cell_type": "markdown",
   "id": "7393f2f4-aa74-474e-a7aa-a310ab5db288",
   "metadata": {
    "id": "7393f2f4-aa74-474e-a7aa-a310ab5db288"
   },
   "source": [
    "## Multiple Missing Types\n",
    "- Sometimes, data have more than one flavor of missing:\n",
    "\n",
    "<img src=\"./src/NA_codes.jpg\" width='400' />\n",
    "\n",
    "- In a case like this, you make sure there's a unique category for each kind of missing that might occur\n",
    "- Why might this matter? Imagine a household survey question about drug use or multiple numerals for a dummy\n",
    "- An example of this is (unintentionally) the `is_poor` variable\n"
   ]
  },
  {
   "cell_type": "code",
   "execution_count": 13,
   "id": "2dd7db7c-8291-4fef-8c3f-8187492bbe3c",
   "metadata": {
    "id": "2dd7db7c-8291-4fef-8c3f-8187492bbe3c",
    "outputId": "4ce2e496-2253-419e-9733-77be1e78eb42",
    "tags": []
   },
   "outputs": [
    {
     "name": "stdout",
     "output_type": "stream",
     "text": [
      "['F' 'M' 'S' ' ' 'I'] \n",
      "\n",
      "M    13616\n",
      "F     7029\n",
      "S     2309\n",
      "I        6\n",
      "Name: case_type, dtype: int64 \n",
      "\n",
      "[99  9  0  1] \n",
      "\n",
      "0.0    11500\n",
      "1.0    10465\n",
      "Name: is_poor, dtype: int64\n"
     ]
    }
   ],
   "source": [
    "var = 'case_type'\n",
    "print(df[var].unique(), '\\n') # A Categorical Example\n",
    "df[var] = df[var].replace(' ',np.nan) # Notice the column replacement\n",
    "print(df[var].value_counts(), '\\n')\n",
    "#\n",
    "var = 'is_poor' # A Dummy Example\n",
    "print(df[var].unique(), '\\n')\n",
    "df[var] = df[var].replace( [9,99], np.nan) # Notice the list\n",
    "print(df[var].value_counts()) "
   ]
  },
  {
   "cell_type": "markdown",
   "id": "5011842c",
   "metadata": {},
   "source": [
    "## Dummy Variables, One Hot Encoding\n",
    "- Ultimately, how do we process categorical -- brand of a car, species of animal, words in a sentence -- data for analytical methods?\n",
    "- We take the single categorical variable taking $K$ values, and create $K$ variables, where the value for each new variable corresponds to the original categorical label\n",
    "- We call these **dummy variables**, or say they are **one hot encoded**\n",
    "- In our example, we'll take the since `case_type` variable, taking values F, I, M, and S, and convert it into four new variables, taking the value 1 if the original `case_type` was F, I, M, or S, respectively\n",
    "- This allows us to process essentially any kind of categorical data: Just convert it from the text labels into a matrix of 0's and 1's\n",
    "- We will often want to drop one of the categories. That dropped category serves as a baseline category in analytical techniques. The option to do this is `drop_first = True`.\n",
    "    - The intuition is that if I have $K-1$ of the $K$ values, then I know what the $K$-th value must be, so using all $K$ variables rather than $K-1$ can be redundant"
   ]
  },
  {
   "cell_type": "code",
   "execution_count": 14,
   "id": "856856fc",
   "metadata": {},
   "outputs": [
    {
     "data": {
      "text/html": [
       "<div>\n",
       "<style scoped>\n",
       "    .dataframe tbody tr th:only-of-type {\n",
       "        vertical-align: middle;\n",
       "    }\n",
       "\n",
       "    .dataframe tbody tr th {\n",
       "        vertical-align: top;\n",
       "    }\n",
       "\n",
       "    .dataframe thead th {\n",
       "        text-align: right;\n",
       "    }\n",
       "</style>\n",
       "<table border=\"1\" class=\"dataframe\">\n",
       "  <thead>\n",
       "    <tr style=\"text-align: right;\">\n",
       "      <th></th>\n",
       "      <th>F</th>\n",
       "      <th>I</th>\n",
       "      <th>M</th>\n",
       "      <th>S</th>\n",
       "    </tr>\n",
       "  </thead>\n",
       "  <tbody>\n",
       "    <tr>\n",
       "      <th>0</th>\n",
       "      <td>1</td>\n",
       "      <td>0</td>\n",
       "      <td>0</td>\n",
       "      <td>0</td>\n",
       "    </tr>\n",
       "    <tr>\n",
       "      <th>1</th>\n",
       "      <td>1</td>\n",
       "      <td>0</td>\n",
       "      <td>0</td>\n",
       "      <td>0</td>\n",
       "    </tr>\n",
       "    <tr>\n",
       "      <th>2</th>\n",
       "      <td>0</td>\n",
       "      <td>0</td>\n",
       "      <td>1</td>\n",
       "      <td>0</td>\n",
       "    </tr>\n",
       "    <tr>\n",
       "      <th>3</th>\n",
       "      <td>0</td>\n",
       "      <td>0</td>\n",
       "      <td>1</td>\n",
       "      <td>0</td>\n",
       "    </tr>\n",
       "    <tr>\n",
       "      <th>4</th>\n",
       "      <td>1</td>\n",
       "      <td>0</td>\n",
       "      <td>0</td>\n",
       "      <td>0</td>\n",
       "    </tr>\n",
       "  </tbody>\n",
       "</table>\n",
       "</div>"
      ],
      "text/plain": [
       "   F  I  M  S\n",
       "0  1  0  0  0\n",
       "1  1  0  0  0\n",
       "2  0  0  1  0\n",
       "3  0  0  1  0\n",
       "4  1  0  0  0"
      ]
     },
     "execution_count": 14,
     "metadata": {},
     "output_type": "execute_result"
    }
   ],
   "source": [
    "df_ct = pd.get_dummies(df['case_type']) # This helps with intuition\n",
    "df_ct.head()"
   ]
  },
  {
   "cell_type": "code",
   "execution_count": 15,
   "id": "2ad159e0",
   "metadata": {},
   "outputs": [
    {
     "data": {
      "text/html": [
       "<div>\n",
       "<style scoped>\n",
       "    .dataframe tbody tr th:only-of-type {\n",
       "        vertical-align: middle;\n",
       "    }\n",
       "\n",
       "    .dataframe tbody tr th {\n",
       "        vertical-align: top;\n",
       "    }\n",
       "\n",
       "    .dataframe thead th {\n",
       "        text-align: right;\n",
       "    }\n",
       "</style>\n",
       "<table border=\"1\" class=\"dataframe\">\n",
       "  <thead>\n",
       "    <tr style=\"text-align: right;\">\n",
       "      <th></th>\n",
       "      <th>I</th>\n",
       "      <th>M</th>\n",
       "      <th>S</th>\n",
       "    </tr>\n",
       "  </thead>\n",
       "  <tbody>\n",
       "    <tr>\n",
       "      <th>0</th>\n",
       "      <td>0</td>\n",
       "      <td>0</td>\n",
       "      <td>0</td>\n",
       "    </tr>\n",
       "    <tr>\n",
       "      <th>1</th>\n",
       "      <td>0</td>\n",
       "      <td>0</td>\n",
       "      <td>0</td>\n",
       "    </tr>\n",
       "    <tr>\n",
       "      <th>2</th>\n",
       "      <td>0</td>\n",
       "      <td>1</td>\n",
       "      <td>0</td>\n",
       "    </tr>\n",
       "    <tr>\n",
       "      <th>3</th>\n",
       "      <td>0</td>\n",
       "      <td>1</td>\n",
       "      <td>0</td>\n",
       "    </tr>\n",
       "    <tr>\n",
       "      <th>4</th>\n",
       "      <td>0</td>\n",
       "      <td>0</td>\n",
       "      <td>0</td>\n",
       "    </tr>\n",
       "  </tbody>\n",
       "</table>\n",
       "</div>"
      ],
      "text/plain": [
       "   I  M  S\n",
       "0  0  0  0\n",
       "1  0  0  0\n",
       "2  0  1  0\n",
       "3  0  1  0\n",
       "4  0  0  0"
      ]
     },
     "execution_count": 15,
     "metadata": {},
     "output_type": "execute_result"
    }
   ],
   "source": [
    "df_ct = pd.get_dummies(df['case_type'], drop_first=True, dtype=int) # This is how we typically want the results\n",
    "df_ct.head() # Which category was dropped? Is that ideal?"
   ]
  },
  {
   "cell_type": "markdown",
   "id": "dbd504d5",
   "metadata": {},
   "source": [
    "## Dataframe Manipulation\n",
    "- Ok, we've handled the missing values, but there's typically more to do\n",
    "- We then might want to focus on subsets of the data by **filtering** the rows or columns\n",
    "- We might also want to combine multiple datasets together: This is called a **merge**, which takes the form of a **concatenation** or **join**\n",
    "- Later on, we'll talk about feature engineering and other ways of transforming variables for analytical purposes"
   ]
  },
  {
   "cell_type": "markdown",
   "id": "b4ac7aa8",
   "metadata": {},
   "source": [
    "## Logical Operators\n",
    "- Often, we want to check a logical condition for every observation\n",
    "- These are some of the most commonly used operators:\n",
    "\n",
    "| Operator | Meaning |\n",
    "| :---: | :---:|\n",
    "| `and` | and |\n",
    "|`or` | or |\n",
    "|$==$, $!=$ | equivalence, inequivalence |\n",
    "|`<=`,`<` | less-than-equal-to, less-than |\n",
    "| `in`, `not in`| set membership, set non-membership |\n",
    "\n",
    "- For example, we'll want to determine the observations for which `df['is_poor'] == (9 or 99)`\n",
    "- Other times we want a combination of conditions:\n",
    "- Knowing how to construct logical tests is super useful "
   ]
  },
  {
   "cell_type": "markdown",
   "id": "c802a207",
   "metadata": {},
   "source": [
    "## Row Filtering: Taking Subsets of the Observations\n",
    "- We often want to focus only on a subset of the observations, like defendants accused of a felony\n",
    "- We can **filter** on a conditional/Boolean statement, selecting the rows that get a 1 and discarding those that get a zero\n",
    "- This creates a new dataframe, focused just on what we're interested in: `df['case_type']=='F'`\n",
    "- For example, in the case of felonies, we can create a new dataframe: `df_felony = df[ df['case_type']=='F' ]`In general, the syntax is\n",
    " `new_df = df[ conditional ]`"
   ]
  },
  {
   "cell_type": "code",
   "execution_count": 16,
   "id": "e1ecb111",
   "metadata": {},
   "outputs": [
    {
     "name": "stdout",
     "output_type": "stream",
     "text": [
      "M    13616\n",
      "F     7029\n",
      "S     2309\n",
      "I        6\n",
      "Name: case_type, dtype: int64 \n",
      "\n",
      "False    15957\n",
      "True      7029\n",
      "Name: case_type, dtype: int64 \n",
      "\n",
      "Old dataframe:  (22986, 714) \n",
      " New dataframe:  (7029, 714)\n"
     ]
    }
   ],
   "source": [
    "print(df['case_type'].value_counts(), '\\n') # How many charges of each type?\n",
    "conditional =  (df['case_type']=='F') # Conditional: The charge is a felony\n",
    "print(conditional.value_counts(), '\\n') # Counts for the conditional variable: 7029 True\n",
    "\n",
    "df_felony = df[ conditional ] # Create new dataset\n",
    "print('Old dataframe: ', df.shape, '\\n', 'New dataframe: ', df_felony.shape) # Dimensions of original and new dataframes: 7029 rows"
   ]
  },
  {
   "cell_type": "markdown",
   "id": "d20d1c0b",
   "metadata": {},
   "source": [
    "## Column Filtering: Taking Subsets of the Variables\n",
    "- Suppose you only have a few variables you're actually interested in, or you might not want to release some sensitive data like names or phone numbers\n",
    "- You can use `new_df = df.filter( list )` to keep a specific set of variables in the list `list = [var1, var2, ..., varN]`\n",
    "- You can use `new_df = df.drop( list, axis=1 )` to drop a specific set of variables in the list `list = [var1, var2, ..., varN]`\n",
    "- For example, we might want only the demographic data, `list = ['Defendant_Age', 'Defendant_Sex', 'Defendant_Race']`... or we might want to hide those variables for privacy reasons"
   ]
  },
  {
   "cell_type": "code",
   "execution_count": 17,
   "id": "e82dfb8b",
   "metadata": {},
   "outputs": [
    {
     "name": "stdout",
     "output_type": "stream",
     "text": [
      "Index(['Defendant_Age', 'Defendant_Sex', 'Defendant_Race'], dtype='object') \n",
      " (22986, 3) \n",
      "\n",
      "Index(['InternalStudyID', 'REQ_REC#', 'Defendant_BirthYear',\n",
      "       'Defendant_AgeGroup', 'Defendant_AgeatCurrentArrest',\n",
      "       'Defendant_AttorneyTypeAtCaseClosure', 'is_poor',\n",
      "       'Defendant_RecordedZipCode_eMag', 'Defendant_VirginiaResidencyStatus',\n",
      "       'released',\n",
      "       ...\n",
      "       'NewFelonySexualAssaultArrest_Disposition',\n",
      "       'Intertnalindicator_ReasonforExcludingFromFollowUpAnalysis',\n",
      "       'CriminalHistoryRecordsReturnedorCMSRecordsFoundforIndividual',\n",
      "       'DispRecordFoundforChargesinOct2017Contact_Atleast1dispfound',\n",
      "       'CrimeCommission2021ReportClassificationofDefendants', 'age', 'sex',\n",
      "       'age_nan', 'age_na', 'age_impute'],\n",
      "      dtype='object', length=711) \n",
      " (22986, 711)\n"
     ]
    }
   ],
   "source": [
    "list = ['Defendant_Age', 'Defendant_Sex', 'Defendant_Race']\n",
    "new_df = df.filter(list) # Keep only the variables on the list\n",
    "print( new_df.columns, '\\n', new_df.shape, '\\n')\n",
    "\n",
    "new_df = df.drop(list,axis=1) # Drop only the variables on the list\n",
    "print( new_df.columns, '\\n', new_df.shape)"
   ]
  },
  {
   "cell_type": "markdown",
   "id": "a792e5ef",
   "metadata": {},
   "source": [
    "## The `.query` and `.isin` Functions\n",
    "- There are nice to know\n",
    "- The `.query` function allows you to write a Boolean conditional as a text string, then pass it to the query method: \n",
    "`df.query(conditional)`: "
   ]
  },
  {
   "cell_type": "code",
   "execution_count": 18,
   "id": "447c5fe2",
   "metadata": {},
   "outputs": [
    {
     "data": {
      "text/plain": [
       "(6934, 714)"
      ]
     },
     "execution_count": 18,
     "metadata": {},
     "output_type": "execute_result"
    }
   ],
   "source": [
    "conditional = \" case_type == 'F' & age < 70 & (Defendant_Race == 'W' or Defendant_Race == 'B') \"\n",
    "df_cond = df.query(conditional)\n",
    "df_cond.shape"
   ]
  },
  {
   "cell_type": "markdown",
   "id": "821bf4cc",
   "metadata": {},
   "source": [
    "- Similarly, sometimes you want to conditional on a variable appearing on a list of values. This is easy to do with `.isin(list)` and a filter:"
   ]
  },
  {
   "cell_type": "code",
   "execution_count": 19,
   "id": "92ec3986",
   "metadata": {},
   "outputs": [
    {
     "data": {
      "text/plain": [
       "(22506, 714)"
      ]
     },
     "execution_count": 19,
     "metadata": {},
     "output_type": "execute_result"
    }
   ],
   "source": [
    "df_cond = df[ df['Defendant_Race'].isin(['W','B']) ]\n",
    "df_cond.shape"
   ]
  },
  {
   "cell_type": "markdown",
   "id": "366ef02f",
   "metadata": {},
   "source": [
    "## Locator Functions\n",
    "- The method I probably use the most from Pandas is `.loc`, the locator function, because I am too lazy to remember the foregoing functions.\n",
    "- If you want to filter on columns and rows at the same time, you can use the **locator function**, `df.loc[indices, col_labels]`, where you pass lists of indices (or `:` or a conditional vector) and a list of column labels. This returns the intersection of those rows and columns.\n",
    "- If you want to pull particular rows or columns, or otherwise **slice** the dataframe, you can use the **integer locator class method** `df.iloc[x:y,a:b]` for numeric address, literally picking the $x$-th to $y-1$-st rows and $a$ up to $b$ columns in terms of their \"physical location\" in the data frame.\n",
    "- These functions are a nightmare to work with."
   ]
  },
  {
   "cell_type": "code",
   "execution_count": 20,
   "id": "40f971aa",
   "metadata": {},
   "outputs": [
    {
     "name": "stdout",
     "output_type": "stream",
     "text": [
      "  InternalStudyID REQ_REC# Defendant_Sex Defendant_Race Defendant_BirthYear\n",
      "0        ADI00001        1             M              W                1986\n",
      "1        ADI00007        3             M              B                1956\n",
      "2        ADI00008        4             M              W                1990\n",
      "3        CDI00036        6             M              B                1989\n",
      "4        CDI00038        7             F              W                1988 \n",
      "\n"
     ]
    }
   ],
   "source": [
    "print(df.iloc[0:5,0:5],'\\n') # Show the zero-th to fourth rows/zero-th to seventh columns"
   ]
  },
  {
   "cell_type": "code",
   "execution_count": 21,
   "id": "df568fab",
   "metadata": {},
   "outputs": [
    {
     "name": "stdout",
     "output_type": "stream",
     "text": [
      "  Defendant_Sex Defendant_Race\n",
      "0             M              W\n",
      "1             M              B\n",
      "2             M              W\n",
      "3             M              B\n",
      "4             F              W\n",
      "5             M              B \n",
      "\n"
     ]
    }
   ],
   "source": [
    "print(df.loc[0:5,('Defendant_Sex','Defendant_Race')],'\\n') # Show rows 0:5 of Sex and Race"
   ]
  },
  {
   "cell_type": "markdown",
   "id": "5dfdc9f3",
   "metadata": {},
   "source": [
    "## Merging/Concatenating Dataframes\n",
    "- We often have dataframes from multiple sources, and want to combine them together for analysis, or **merge** them. There are three broad approaches:\n",
    "    - Concatenation: Smash the two matrices together horizontally or vertically (not quite with Pandas, it's on the index)\n",
    "    - Inner Join: If an index appears in one dataframe but not the other, drop those rows (intersection of keys)\n",
    "    - Outer Join: If an index appears in one dataframe but not the other, keep it, replacing missing values with zero (union of keys)\n",
    "- To illustrate this, we'll make up two data frames from our justice data with a common identifying variable, then merge them back together\n",
    "- This also illustrates how to add your one-hot encoded variables to a dataframe: Concatenate them back in"
   ]
  },
  {
   "cell_type": "code",
   "execution_count": 22,
   "id": "dfdc49bf",
   "metadata": {},
   "outputs": [
    {
     "name": "stdout",
     "output_type": "stream",
     "text": [
      "   F  I  M  S sex        id\n",
      "0  1  0  0  0   M  ADI00001\n",
      "1  1  0  0  0   M  ADI00007\n",
      "2  0  0  1  0   M  ADI00008\n",
      "3  0  0  1  0   M  CDI00036\n",
      "4  1  0  0  0   F  CDI00038\n",
      "   2  3  4  5  6  7  9 race        id\n",
      "0  0  1  0  0  0  0  0    W  ADI00001\n",
      "1  0  0  0  0  1  0  0    B  ADI00007\n",
      "2  0  1  0  0  0  0  0    W  ADI00008\n",
      "3  0  1  0  0  0  0  0    B  CDI00036\n",
      "4  0  1  0  0  0  0  0    W  CDI00038\n"
     ]
    }
   ],
   "source": [
    "## Case type data with an id variable:\n",
    "df_ct = pd.get_dummies(df['case_type'],dtype=int)\n",
    "df_ct['sex'] = df['Defendant_Sex']\n",
    "df_ct['id'] = df['InternalStudyID']\n",
    "print(df_ct.head())\n",
    "\n",
    "## Age group data with an id variable:\n",
    "df_age = pd.get_dummies(df['Defendant_AgeGroup'],dtype=int)\n",
    "df_age['race'] = df['Defendant_Race']\n",
    "df_age['id'] = df['InternalStudyID']\n",
    "print(df_age.head())\n"
   ]
  },
  {
   "cell_type": "code",
   "execution_count": 23,
   "id": "9694f82b",
   "metadata": {},
   "outputs": [
    {
     "name": "stdout",
     "output_type": "stream",
     "text": [
      "Concatenation dimensions:  (22986, 15)\n"
     ]
    },
    {
     "data": {
      "text/html": [
       "<div>\n",
       "<style scoped>\n",
       "    .dataframe tbody tr th:only-of-type {\n",
       "        vertical-align: middle;\n",
       "    }\n",
       "\n",
       "    .dataframe tbody tr th {\n",
       "        vertical-align: top;\n",
       "    }\n",
       "\n",
       "    .dataframe thead th {\n",
       "        text-align: right;\n",
       "    }\n",
       "</style>\n",
       "<table border=\"1\" class=\"dataframe\">\n",
       "  <thead>\n",
       "    <tr style=\"text-align: right;\">\n",
       "      <th></th>\n",
       "      <th>F</th>\n",
       "      <th>I</th>\n",
       "      <th>M</th>\n",
       "      <th>S</th>\n",
       "      <th>sex</th>\n",
       "      <th>id</th>\n",
       "      <th>2</th>\n",
       "      <th>3</th>\n",
       "      <th>4</th>\n",
       "      <th>5</th>\n",
       "      <th>6</th>\n",
       "      <th>7</th>\n",
       "      <th>9</th>\n",
       "      <th>race</th>\n",
       "      <th>id</th>\n",
       "    </tr>\n",
       "  </thead>\n",
       "  <tbody>\n",
       "    <tr>\n",
       "      <th>0</th>\n",
       "      <td>1</td>\n",
       "      <td>0</td>\n",
       "      <td>0</td>\n",
       "      <td>0</td>\n",
       "      <td>M</td>\n",
       "      <td>ADI00001</td>\n",
       "      <td>0</td>\n",
       "      <td>1</td>\n",
       "      <td>0</td>\n",
       "      <td>0</td>\n",
       "      <td>0</td>\n",
       "      <td>0</td>\n",
       "      <td>0</td>\n",
       "      <td>W</td>\n",
       "      <td>ADI00001</td>\n",
       "    </tr>\n",
       "    <tr>\n",
       "      <th>1</th>\n",
       "      <td>1</td>\n",
       "      <td>0</td>\n",
       "      <td>0</td>\n",
       "      <td>0</td>\n",
       "      <td>M</td>\n",
       "      <td>ADI00007</td>\n",
       "      <td>0</td>\n",
       "      <td>0</td>\n",
       "      <td>0</td>\n",
       "      <td>0</td>\n",
       "      <td>1</td>\n",
       "      <td>0</td>\n",
       "      <td>0</td>\n",
       "      <td>B</td>\n",
       "      <td>ADI00007</td>\n",
       "    </tr>\n",
       "    <tr>\n",
       "      <th>2</th>\n",
       "      <td>0</td>\n",
       "      <td>0</td>\n",
       "      <td>1</td>\n",
       "      <td>0</td>\n",
       "      <td>M</td>\n",
       "      <td>ADI00008</td>\n",
       "      <td>0</td>\n",
       "      <td>1</td>\n",
       "      <td>0</td>\n",
       "      <td>0</td>\n",
       "      <td>0</td>\n",
       "      <td>0</td>\n",
       "      <td>0</td>\n",
       "      <td>W</td>\n",
       "      <td>ADI00008</td>\n",
       "    </tr>\n",
       "    <tr>\n",
       "      <th>3</th>\n",
       "      <td>0</td>\n",
       "      <td>0</td>\n",
       "      <td>1</td>\n",
       "      <td>0</td>\n",
       "      <td>M</td>\n",
       "      <td>CDI00036</td>\n",
       "      <td>0</td>\n",
       "      <td>1</td>\n",
       "      <td>0</td>\n",
       "      <td>0</td>\n",
       "      <td>0</td>\n",
       "      <td>0</td>\n",
       "      <td>0</td>\n",
       "      <td>B</td>\n",
       "      <td>CDI00036</td>\n",
       "    </tr>\n",
       "    <tr>\n",
       "      <th>4</th>\n",
       "      <td>1</td>\n",
       "      <td>0</td>\n",
       "      <td>0</td>\n",
       "      <td>0</td>\n",
       "      <td>F</td>\n",
       "      <td>CDI00038</td>\n",
       "      <td>0</td>\n",
       "      <td>1</td>\n",
       "      <td>0</td>\n",
       "      <td>0</td>\n",
       "      <td>0</td>\n",
       "      <td>0</td>\n",
       "      <td>0</td>\n",
       "      <td>W</td>\n",
       "      <td>CDI00038</td>\n",
       "    </tr>\n",
       "  </tbody>\n",
       "</table>\n",
       "</div>"
      ],
      "text/plain": [
       "   F  I  M  S sex        id  2  3  4  5  6  7  9 race        id\n",
       "0  1  0  0  0   M  ADI00001  0  1  0  0  0  0  0    W  ADI00001\n",
       "1  1  0  0  0   M  ADI00007  0  0  0  0  1  0  0    B  ADI00007\n",
       "2  0  0  1  0   M  ADI00008  0  1  0  0  0  0  0    W  ADI00008\n",
       "3  0  0  1  0   M  CDI00036  0  1  0  0  0  0  0    B  CDI00036\n",
       "4  1  0  0  0   F  CDI00038  0  1  0  0  0  0  0    W  CDI00038"
      ]
     },
     "execution_count": 23,
     "metadata": {},
     "output_type": "execute_result"
    }
   ],
   "source": [
    "## Concatenation:\n",
    "df_concat = pd.concat( [df_ct, df_age] , axis=1) # Column concatenation; row isn't possible\n",
    "print('Concatenation dimensions: ', df_concat.shape)\n",
    "df_concat.head()"
   ]
  },
  {
   "cell_type": "code",
   "execution_count": 24,
   "id": "f1194df7",
   "metadata": {},
   "outputs": [
    {
     "name": "stdout",
     "output_type": "stream",
     "text": [
      "Inner join dimensions:  (18389, 14)\n",
      "Outer join dimensions:  (22986, 14)\n"
     ]
    }
   ],
   "source": [
    "## Joining:\n",
    "df_a = df_age.sample(frac=.8) # We'll sample 80% of the rows at random\n",
    "\n",
    "df_inner = pd.merge(df_a,df_ct, how='inner', on=['id','id'])\n",
    "print('Inner join dimensions: ', df_inner.shape)\n",
    "\n",
    "df_outer = pd.merge(df_a,df_ct, how='outer', on=['id','id'])\n",
    "print('Outer join dimensions: ', df_outer.shape)"
   ]
  },
  {
   "cell_type": "markdown",
   "id": "13b4d4fe",
   "metadata": {},
   "source": [
    "## When are the data \"clean\"?\n",
    "- For the kinds of analysis we do, the data are *clean* when:\n",
    "  - The data are in a single $N \\times K$ matrix $X$\n",
    "  - Each row $i=1,...,N$ represents a single observation\n",
    "  - The observations are all of the same kind (e.g. entrepreneurs versus companies)\n",
    "  - Each column $k=1,...,K$ represents a variable\n",
    "  - Missing values are appropriately \"handled\" (converted to `.nan` where appropriate or imputed/missing-dummied when appropriate -- not still lurking as `dtype=object`'s)\n",
    "  - If the data are contained in multiple files, you end up with a single dataframe combining all the relevant data for the subsequent analysis\n",
    "- We might also want some other things (this updgrades \"clean\" to \"tidy\"):\n",
    "  - The variable names make sense (not \"NewVaCode297ViolentOff_VCCPrefix\")\n",
    "  - \"Unnecessary\" variables are removed\n",
    "  - Dates are converted into numerical values, like decimal date (e.g. 2018.125) or numeric dummies"
   ]
  },
  {
   "cell_type": "markdown",
   "id": "85e8780a-a216-49cb-916f-eef6d131e32a",
   "metadata": {
    "id": "85e8780a-a216-49cb-916f-eef6d131e32a"
   },
   "source": [
    "## Investigating Missing Data: A Case Study\n",
    "- Handling the `.nan`'s is really just the first step with missing data\n",
    "- For key variables, you want to eliminate as many `.nan`'s as possible through detective work\n",
    "- Let's take a look at the `bond` variable: This is a crucial variable in the justice system, and most of the values are missing\n",
    "- This is an example of a variable with a **long tail** of values"
   ]
  },
  {
   "cell_type": "code",
   "execution_count": 25,
   "id": "cb0cd671-b756-492c-9092-d66468f2f192",
   "metadata": {
    "id": "cb0cd671-b756-492c-9092-d66468f2f192",
    "outputId": "ad400e0e-ef90-4290-9c99-1200e19817ec"
   },
   "outputs": [
    {
     "name": "stdout",
     "output_type": "stream",
     "text": [
      "count      9568.000000\n",
      "mean       2587.987458\n",
      "std        3492.501200\n",
      "min           1.000000\n",
      "25%        1000.000000\n",
      "50%        2000.000000\n",
      "75%        3000.000000\n",
      "max      160000.000000\n",
      "Name: bond, dtype: float64 \n",
      "\n",
      "13418 \n",
      "\n"
     ]
    },
    {
     "data": {
      "image/png": "[encoded data removed]",
      "text/plain": [
       "<Figure size 640x480 with 1 Axes>"
      ]
     },
     "metadata": {},
     "output_type": "display_data"
    }
   ],
   "source": [
    "var = 'bond'\n",
    "df[var] = pd.to_numeric(df[var], errors='coerce') # Coerce the variable to numeric\n",
    "\n",
    "print(df[var].describe(),'\\n') # Describe the numeric variable\n",
    "df[var].hist(bins = 50) # Histogram of the variable values\n",
    "\n",
    "df['bond_NA'] = df[var].isnull() # Create a bond missing dummy; long tail\n",
    "\n",
    "print(sum(df['bond_NA']),'\\n') # How many missing values are there?\n"
   ]
  },
  {
   "cell_type": "markdown",
   "id": "1321f3f4-33ca-4331-b04f-32c1fd770a9f",
   "metadata": {
    "id": "1321f3f4-33ca-4331-b04f-32c1fd770a9f"
   },
   "source": [
    "## Investigating Missing Data: Cross tabulation\n",
    "- The relationships between variables are important, and we want a quick way of seeing how they relate\n",
    "- *Cross tabulation* is when you break two variables into categories, and enumerate the number in each of the bins\n",
    "- The call in Pandas is `pd.crosstab( df[var1], df[var2] )`\n",
    "- Notice this is a Pandas method (`pd.`) and not a dataframe object method (`df.`)\n",
    "- This is often the first step in determining how variables co-vary with one another, before computing a statistic or using a model"
   ]
  },
  {
   "cell_type": "code",
   "execution_count": 26,
   "id": "217924df-15ff-436b-88b4-688b6a6d7000",
   "metadata": {
    "id": "217924df-15ff-436b-88b4-688b6a6d7000",
    "outputId": "1af2df53-e27c-4540-9d23-5623bb45932b"
   },
   "outputs": [
    {
     "data": {
      "text/html": [
       "<div>\n",
       "<style scoped>\n",
       "    .dataframe tbody tr th:only-of-type {\n",
       "        vertical-align: middle;\n",
       "    }\n",
       "\n",
       "    .dataframe tbody tr th {\n",
       "        vertical-align: top;\n",
       "    }\n",
       "\n",
       "    .dataframe thead th {\n",
       "        text-align: right;\n",
       "    }\n",
       "</style>\n",
       "<table border=\"1\" class=\"dataframe\">\n",
       "  <thead>\n",
       "    <tr style=\"text-align: right;\">\n",
       "      <th>case_type</th>\n",
       "      <th>F</th>\n",
       "      <th>I</th>\n",
       "      <th>M</th>\n",
       "      <th>S</th>\n",
       "    </tr>\n",
       "    <tr>\n",
       "      <th>is_poor</th>\n",
       "      <th></th>\n",
       "      <th></th>\n",
       "      <th></th>\n",
       "      <th></th>\n",
       "    </tr>\n",
       "  </thead>\n",
       "  <tbody>\n",
       "    <tr>\n",
       "      <th>0.0</th>\n",
       "      <td>2393</td>\n",
       "      <td>3</td>\n",
       "      <td>8189</td>\n",
       "      <td>905</td>\n",
       "    </tr>\n",
       "    <tr>\n",
       "      <th>1.0</th>\n",
       "      <td>4466</td>\n",
       "      <td>3</td>\n",
       "      <td>4748</td>\n",
       "      <td>1239</td>\n",
       "    </tr>\n",
       "  </tbody>\n",
       "</table>\n",
       "</div>"
      ],
      "text/plain": [
       "case_type     F  I     M     S\n",
       "is_poor                       \n",
       "0.0        2393  3  8189   905\n",
       "1.0        4466  3  4748  1239"
      ]
     },
     "execution_count": 26,
     "metadata": {},
     "output_type": "execute_result"
    }
   ],
   "source": [
    "pd.crosstab(df['is_poor'], df['case_type']) # Notice the use of pd. and not df."
   ]
  },
  {
   "cell_type": "markdown",
   "id": "780488cd-386f-4b97-8dae-9a5cc903c9b3",
   "metadata": {
    "id": "780488cd-386f-4b97-8dae-9a5cc903c9b3"
   },
   "source": [
    "## Investigating Missing Data: A Case Study\n",
    "- Let's see if we can explain *why* bond is missing so much using other variables, like whether the person was released pre-trial or the type of bond imposed.\n",
    "- In the codebook, we have (notice, no category 8...):\n",
    "  \n",
    "![Bond Types](./src/bondType.png)\n",
    "\n"
   ]
  },
  {
   "cell_type": "code",
   "execution_count": 27,
   "id": "92d77b0d-37d0-4c33-86e0-fd25195d49ec",
   "metadata": {
    "id": "92d77b0d-37d0-4c33-86e0-fd25195d49ec",
    "outputId": "d4844f90-db7b-4264-dceb-c096b2de9982"
   },
   "outputs": [
    {
     "name": "stdout",
     "output_type": "stream",
     "text": [
      "PretrialReleaseType1     0     1     2     3     4    5   6    7    8    9\n",
      "bond_NA                                                                   \n",
      "False                  367    39     0  5333  3015   35   0  306  388   85\n",
      "True                  3434  1855  5273   447  1009  140  12  270  737  241 \n",
      "\n"
     ]
    }
   ],
   "source": [
    "df['bond_NA'] = df['bond'].isnull()\n",
    "print(pd.crosstab(df['bond_NA'],df['PretrialReleaseType1']),'\\n') # Not very illuminating"
   ]
  },
  {
   "cell_type": "code",
   "execution_count": 28,
   "id": "80cebb6f-2d75-4258-bbf9-c4aa0ea3db2f",
   "metadata": {
    "id": "80cebb6f-2d75-4258-bbf9-c4aa0ea3db2f",
    "outputId": "088d23de-2f59-4779-9cd0-9035955a9491"
   },
   "outputs": [
    {
     "name": "stdout",
     "output_type": "stream",
     "text": [
      "BondTypeAtInitialContact     1     2     3     4    5     6    7  9\n",
      "bond_NA                                                            \n",
      "False                        0  4149  5419     0    0     0    0  0\n",
      "True                      5953     0     0  1805  254  5285  117  4 \n",
      "\n"
     ]
    }
   ],
   "source": [
    "print(pd.crosstab(df['bond_NA'],df['BondTypeAtInitialContact']),'\\n') # Bingo"
   ]
  },
  {
   "cell_type": "markdown",
   "id": "4757147c",
   "metadata": {},
   "source": [
    "- From here, we can see what's going on: The bond is missing for groups 1, 4, 5, 6, 7, and 9, which are Held Without Bond, Personal Recognizance Bond, No decision, Release on summons, Direct indictment, or Missing. Only codes 2 and 3 correspond to a secured or unsecured bond.\n",
    "- For groups 4 and 6, it's as if the bond is zero: There's no financial stake set at the hearing for the defendant that determines whether they are free to leave or not\n",
    "- For groups 5, 7, and 9, a value of \"missing\" seems fair\n",
    "- For group 1, these are the people held without bond. \n",
    "- Combining all these codes seems like a very serious issue."
   ]
  },
  {
   "cell_type": "markdown",
   "id": "c19633fe-3f6b-45a0-81c7-97cecff31009",
   "metadata": {
    "id": "c19633fe-3f6b-45a0-81c7-97cecff31009"
   },
   "source": [
    "## Replacing Values\n",
    "- So we want to replace certain values of the **bond** depending on values of the **bond type**\n",
    "- There are (at least) two ways to do this:\n",
    "    - Use `df.loc[ condition, var] = value` to replace the value of variable `var` with `value` depending on whether `condition` is true\n",
    "    - Use `df[var].mask(condition,value)` to replace the value of variable `var` with `value` depending on whether `condition` is true\n",
    "- We have a serious dilemma with bond category 1"
   ]
  },
  {
   "cell_type": "code",
   "execution_count": 29,
   "id": "44523d49-6143-42c5-bbc3-0dcebd39acdc",
   "metadata": {
    "id": "44523d49-6143-42c5-bbc3-0dcebd39acdc",
    "outputId": "38a35db2-57e3-4646-cff4-96746ffd0c1d"
   },
   "outputs": [
    {
     "name": "stdout",
     "output_type": "stream",
     "text": [
      "AxesSubplot(0.125,0.11;0.775x0.77) \n",
      "\n",
      "count     16658.000000\n",
      "mean       1486.484812\n",
      "std        2939.927655\n",
      "min           0.000000\n",
      "25%           0.000000\n",
      "50%        1000.000000\n",
      "75%        2500.000000\n",
      "max      160000.000000\n",
      "Name: bond, dtype: float64 \n",
      "\n",
      "BondTypeAtInitialContact     1     2     3     4    5     6    7  9\n",
      "bond_NA                                                            \n",
      "False                        0  4149  5419  1805    0  5285    0  0\n",
      "True                      5953     0     0     0  254     0  117  4 \n",
      "\n"
     ]
    },
    {
     "data": {
      "image/png": "[encoded data removed]",
      "text/plain": [
       "<Figure size 640x480 with 1 Axes>"
      ]
     },
     "metadata": {},
     "output_type": "display_data"
    }
   ],
   "source": [
    "## For each bond type, replace the missings\n",
    "\n",
    "# df.loc[ df['BondTypeAtInitialContact'] == 9, 'bond'] = np.nan # Missing\n",
    "# df.loc[ df['BondTypeAtInitialContact'] == 7, 'bond'] = np.nan # Unknown\n",
    "\n",
    "# Code strategy 1: .loc\n",
    "df.loc[ df['BondTypeAtInitialContact'] == 6, 'bond'] = 0 # No bond posted\n",
    "df.loc[ df['BondTypeAtInitialContact'] == 5, 'bond'] = np.nan # No bond posted\n",
    "df.loc[ df['BondTypeAtInitialContact'] == 4, 'bond'] = 0 # No bond posted\n",
    "\n",
    "# Code Strategy 2: .mask method\n",
    "df['held_wo_bail'] = (df['BondTypeAtInitialContact'] == 1) # Create a held-without-bail dummy\n",
    "df['bond'].mask(df['BondTypeAtInitialContact'] ==1 , np.nan ) # Held without bail. Nan or Inf? What is the price of freedom?\n",
    "\n",
    "print(df['bond'].hist(), '\\n')\n",
    "print(df['bond'].describe(), '\\n')\n",
    "df['bond_NA'] = df['bond'].isnull() # Update the missing dummy\n",
    "print(pd.crosstab(df['bond_NA'],df['BondTypeAtInitialContact']),'\\n')\n"
   ]
  },
  {
   "cell_type": "markdown",
   "id": "97fe58f3-7504-426d-aec3-da9665e1fa7e",
   "metadata": {
    "id": "97fe58f3-7504-426d-aec3-da9665e1fa7e"
   },
   "source": [
    "## Investigating Missing Data: A Case Study\n",
    "- Notice how we handled the \"held without bail issue\": There is a lot of nuance here\n",
    "- At this point, I'd drop categories 7 and 9, and leave the missing bond values as \"held without bail\"\n",
    "- You might be thinking, \"He is really into analyzing bonds!\"\n",
    "- Not exactly: Cleaning data sets requires some detective work, that's what we're illustrating\n",
    "- The cleaner your data are, the stronger the *signal* becomes relative to the *noise*, reducing *attenuation* of your findings\n",
    "- It requires your full cognitive attention, or your results will be garbage that makes everyone less informed, knowledgeable, and productive (\"GIGO\")\n",
    "- What are the consequences for society if you do a garbage analysis of bonds and sentencing?\n",
    "- We can't get this deeply into every variable in the data, but we must do it for the key ones for our analysis\n",
    "- So how do we continue cleaning up the `bond` variable?"
   ]
  },
  {
   "cell_type": "markdown",
   "id": "0880f0dc-cf2f-4f20-8cec-48f50a6eb6df",
   "metadata": {
    "id": "0880f0dc-cf2f-4f20-8cec-48f50a6eb6df"
   },
   "source": [
    "## Saving Your Clean Data\n",
    "- Do not ever overwrite the original data file: Put it aside and save it for reproducibility purposes\n",
    "- The most common format to save data in is `.csv`, and the command is almost the same as the one to read the data in: `df.to_csv(filename)`\n",
    "- The `.csv` format is probably so ubiquitous because humans can read it. This also means that it's somewhat inefficient, in terms of saving and loading, since it doesn't take advantage of any replication of values within a given variable (e.g. 0 and 1)\n",
    "- If you are working with reasonably large datasets (>5MB), at this point I would recommend Parquet instead (`pd.read_parquet()`, `df.to_parquet()`), but it often requires installing more packages to support it (PyArrow)"
   ]
  },
  {
   "cell_type": "code",
   "execution_count": 31,
   "id": "466d3544-f4f7-4576-a1f7-b7949198efcd",
   "metadata": {
    "id": "466d3544-f4f7-4576-a1f7-b7949198efcd"
   },
   "outputs": [],
   "source": [
    "df.to_csv('pretrial_data.csv') # Save cleaned data to a csv file in ./data for later use\n",
    "#df.to_parquet('pretrial_data.parquet') # Save cleaned data to a csv file for later use"
   ]
  },
  {
   "cell_type": "code",
   "execution_count": null,
   "id": "9264dd2a",
   "metadata": {},
   "outputs": [],
   "source": []
  }
 ],
 "metadata": {
  "colab": {
   "provenance": []
  },
  "kernelspec": {
   "display_name": "Python 3 (ipykernel)",
   "language": "python",
   "name": "python3"
  },
  "language_info": {
   "codemirror_mode": {
    "name": "ipython",
    "version": 3
   },
   "file_extension": ".py",
   "mimetype": "text/x-python",
   "name": "python",
   "nbconvert_exporter": "python",
   "pygments_lexer": "ipython3",
   "version": "3.9.13"
  }
 },
 "nbformat": 4,
 "nbformat_minor": 5
}
